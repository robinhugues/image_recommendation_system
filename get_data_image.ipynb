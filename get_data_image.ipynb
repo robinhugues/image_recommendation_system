{
 "cells": [
  {
   "cell_type": "code",
   "execution_count": 1,
   "metadata": {},
   "outputs": [
    {
     "name": "stderr",
     "output_type": "stream",
     "text": [
      "Extraction des fichiers: 3it [00:00, 16.82it/s]"
     ]
    },
    {
     "name": "stdout",
     "output_type": "stream",
     "text": [
      "Erreur lors du téléchargement de l'image filename : Invalid URL 'link': No scheme supplied. Perhaps you meant https://link?\n"
     ]
    },
    {
     "name": "stderr",
     "output_type": "stream",
     "text": [
      "Extraction des fichiers: 1000it [08:37,  1.93it/s]"
     ]
    },
    {
     "name": "stdout",
     "output_type": "stream",
     "text": [
      "Téléchargement terminé.\n"
     ]
    },
    {
     "name": "stderr",
     "output_type": "stream",
     "text": [
      "\n"
     ]
    }
   ],
   "source": [
    "import pandas as pd\n",
    "import requests\n",
    "import os\n",
    "from tqdm import tqdm\n",
    "\n",
    "# Charger le fichier CSV\n",
    "df = pd.read_csv('images.csv', header=None, names=['filename', 'link'])\n",
    "\n",
    "# Créer un dossier pour stocker les images si ce n'est pas déjà fait\n",
    "if not os.path.exists('data_image'):\n",
    "    os.makedirs('data_image')\n",
    "\n",
    "# Limiter à 1000 liens maximum\n",
    "df = df[:1000]\n",
    "links = df['link']\n",
    "image_names = df['filename']\n",
    "\n",
    "# Télécharger et enregistrer chaque image\n",
    "for image_name, link in tqdm(zip(image_names, links), desc=\"Extraction des fichiers\"):\n",
    "    try:\n",
    "        response = requests.get(link, stream=True)\n",
    "        if response.status_code == 200:\n",
    "            with open(f'data_image/{image_name}', 'wb') as file:\n",
    "                for chunk in response.iter_content(1024):\n",
    "                    file.write(chunk)\n",
    "        else:\n",
    "            print(f\"Erreur lors du téléchargement de l'image {image_name} : statut {response.status_code}\")\n",
    "    except Exception as e:\n",
    "        print(f\"Erreur lors du téléchargement de l'image {image_name} : {e}\")\n",
    "\n",
    "print(\"Téléchargement terminé.\")\n"
   ]
  }
 ],
 "metadata": {
  "kernelspec": {
   "display_name": "Python 3",
   "language": "python",
   "name": "python3"
  },
  "language_info": {
   "codemirror_mode": {
    "name": "ipython",
    "version": 3
   },
   "file_extension": ".py",
   "mimetype": "text/x-python",
   "name": "python",
   "nbconvert_exporter": "python",
   "pygments_lexer": "ipython3",
   "version": "3.10.10"
  }
 },
 "nbformat": 4,
 "nbformat_minor": 2
}
